{
 "cells": [
  {
   "cell_type": "code",
   "execution_count": 3,
   "id": "871d98a9",
   "metadata": {},
   "outputs": [],
   "source": [
    "import requests\n",
    "from bs4 import BeautifulSoup"
   ]
  },
  {
   "cell_type": "code",
   "execution_count": 4,
   "id": "024b9c00",
   "metadata": {},
   "outputs": [],
   "source": [
    "url = str('https://www.otomoto.pl/osobowe/volkswagen/golf?search%5Bfilter_enum_damaged%5D=0&search%5Bfilter_enum_no_accident%5D=1&search%5Badvanced_search_expanded%5D=true')\n",
    "soup = BeautifulSoup(requests.get(url).content, 'html.parser')"
   ]
  },
  {
   "cell_type": "code",
   "execution_count": 5,
   "id": "e92e2d6f",
   "metadata": {},
   "outputs": [],
   "source": [
    "src = soup.find_all('article')"
   ]
  },
  {
   "cell_type": "code",
   "execution_count": 6,
   "id": "87facb4b",
   "metadata": {},
   "outputs": [
    {
     "name": "stdout",
     "output_type": "stream",
     "text": [
      "Volkswagen Golf\n",
      "Volkswagen Golf\n",
      "Volkswagen Golf\n",
      "Volkswagen Golf\n",
      "Volkswagen Golf\n",
      "Volkswagen Golf\n",
      "Volkswagen Golf 2.0 TSI 4Mot R DSG\n",
      "Volkswagen Golf\n",
      "Volkswagen Golf 2.0 TSI 4Mot R DSG\n",
      "Volkswagen Golf 1.5 TSI EVO Life\n",
      "Volkswagen Golf 2.0 TSI 4Mot R DSG\n",
      "Volkswagen Golf 1.5 TSI EVO Life\n",
      "Volkswagen Golf 2.0 TSI 4Mot R DSG\n",
      "Volkswagen Golf\n",
      "Volkswagen Golf\n",
      "Volkswagen Golf\n",
      "Volkswagen Golf\n",
      "Volkswagen Golf\n",
      "Volkswagen Golf 2.0 TSI 4Mot R DSG\n",
      "Volkswagen Golf\n",
      "Volkswagen Golf Variant 1.6 TDI BlueMotion Technology DSG Comfortline\n",
      "Volkswagen Golf 2.0 TDI BMT Comfortline EU6\n",
      "Volkswagen Golf 2.0 TDI BMT Highline DSG EU6\n",
      "Volkswagen Golf 1.6 TDI SCR Comfortline\n",
      "Volkswagen Golf 1.4 TSI BlueMotion Technology DSG Cup\n",
      "Volkswagen Golf\n",
      "Volkswagen Golf\n",
      "Volkswagen Golf GTI TCR 2.0 TSI OPF DSG\n",
      "Volkswagen Golf 1.0 TSI BMT Trendline\n",
      "Volkswagen Golf 1.4 Comfortline\n",
      "Volkswagen Golf 1.4 TSI BMT Comfortline\n",
      "Volkswagen Golf\n",
      "Facebook\n",
      "Pomoc\n",
      "Umowa kupna sprzedaży\n",
      "Cennik dla Klientów Indywidualnych\n",
      "\n",
      "\n"
     ]
    }
   ],
   "source": [
    "for x in src:\n",
    "    print(x.a.text)"
   ]
  },
  {
   "cell_type": "code",
   "execution_count": 7,
   "id": "af098c61",
   "metadata": {},
   "outputs": [
    {
     "data": {
      "text/plain": [
       "'Volkswagen Golf'"
      ]
     },
     "execution_count": 7,
     "metadata": {},
     "output_type": "execute_result"
    }
   ],
   "source": [
    "src[0].a.text"
   ]
  },
  {
   "cell_type": "code",
   "execution_count": 8,
   "id": "d4f55baf",
   "metadata": {},
   "outputs": [
    {
     "data": {
      "text/plain": [
       "'Klima dwustrefowa, 2 komplety kół, podgrzewane fotele, tempomat.'"
      ]
     },
     "execution_count": 8,
     "metadata": {},
     "output_type": "execute_result"
    }
   ],
   "source": [
    "src[0].p.text"
   ]
  },
  {
   "cell_type": "code",
   "execution_count": 9,
   "id": "a085b471",
   "metadata": {},
   "outputs": [
    {
     "data": {
      "text/plain": [
       "'2009'"
      ]
     },
     "execution_count": 9,
     "metadata": {},
     "output_type": "execute_result"
    }
   ],
   "source": [
    "src[0].li.text"
   ]
  },
  {
   "cell_type": "code",
   "execution_count": 132,
   "id": "3f936244",
   "metadata": {},
   "outputs": [
    {
     "name": "stdout",
     "output_type": "stream",
     "text": [
      "84 000 km\n",
      "1 984 cm3\n",
      "Benzyna\n"
     ]
    }
   ],
   "source": [
    "for sibling in src[0].li.next_siblings:\n",
    "    print(sibling.text)"
   ]
  },
  {
   "cell_type": "code",
   "execution_count": 11,
   "id": "cea35f60",
   "metadata": {},
   "outputs": [
    {
     "data": {
      "text/plain": [
       "<a href=\"https://www.otomoto.pl/oferta/volkswagen-golf-klima-dwustrefowa-2-komplety-kol-podgrzewane-fotele-tempomat-ID6F6PpS.html\" target=\"_self\">Volkswagen Golf</a>"
      ]
     },
     "execution_count": 11,
     "metadata": {},
     "output_type": "execute_result"
    }
   ],
   "source": [
    "src[0].a"
   ]
  },
  {
   "cell_type": "code",
   "execution_count": null,
   "id": "de654567",
   "metadata": {},
   "outputs": [],
   "source": []
  }
 ],
 "metadata": {
  "kernelspec": {
   "display_name": "Python 3 (ipykernel)",
   "language": "python",
   "name": "python3"
  },
  "language_info": {
   "codemirror_mode": {
    "name": "ipython",
    "version": 3
   },
   "file_extension": ".py",
   "mimetype": "text/x-python",
   "name": "python",
   "nbconvert_exporter": "python",
   "pygments_lexer": "ipython3",
   "version": "3.9.13"
  }
 },
 "nbformat": 4,
 "nbformat_minor": 5
}
